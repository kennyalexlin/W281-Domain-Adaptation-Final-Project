{
 "cells": [
  {
   "cell_type": "code",
   "execution_count": 10,
   "metadata": {},
   "outputs": [],
   "source": [
    "import numpy as np\n",
    "import pandas as pd\n",
    "import plotly.express as px\n",
    "import plotly.graph_objects as go\n",
    "import cv2 as cv\n",
    "from IPython.display import Image\n",
    "import matplotlib.pyplot as plt\n",
    "from utils import load_images_by_domain, split_images, get_orb_features\n",
    "from sklearn import svm\n",
    "from sklearn.metrics import accuracy_score, confusion_matrix\n",
    "from tqdm import tqdm\n",
    "import seaborn as sns\n",
    "from sklearn.feature_extraction.text import TfidfTransformer\n",
    "from sklearn.cluster import KMeans\n",
    "from sklearn.preprocessing import StandardScaler\n",
    "from sklearn.model_selection import RandomizedSearchCV\n",
    "from scipy.stats import uniform"
   ]
  },
  {
   "cell_type": "code",
   "execution_count": 11,
   "metadata": {},
   "outputs": [
    {
     "name": "stdout",
     "output_type": "stream",
     "text": [
      "Train images: 1456, Train labels: 1456\n",
      "Validation images: 415, Validation labels: 415\n",
      "Test images: 210, Test labels: 210\n"
     ]
    }
   ],
   "source": [
    "# Define paths\n",
    "img_dir = \"../OfficeCaltechDomainAdaptation/images\"\n",
    "\n",
    "# Load images by domain\n",
    "data_by_domain = load_images_by_domain(\n",
    "    img_dir=img_dir,\n",
    "    target_size=(300, 300),  # Standardized size\n",
    "    method=\"pad\",           # Use padding to maintain aspect ratio\n",
    "    seed=888                # Seed for reproducibility\n",
    ")\n",
    "\n",
    "# Split images: Combine amazon and caltech10 into train/val/test\n",
    "train_data, val_data, test_data = split_images(\n",
    "    data_by_domain=data_by_domain,\n",
    "    train_domains=[\"amazon\", \"caltech10\"],  # Combine these for training and validation\n",
    "    test_domains=[],                        # Use part of amazon and caltech10 for testing\n",
    "    train_split=0.7,                        # 60% for training\n",
    "    val_split=0.2,                          # 20% for validation\n",
    "    use_train_for_test=True,                # Use part of train_domains for testing\n",
    "    test_split=0.1,                         # 20% for testing\n",
    "    seed=888                                # Seed for reproducibility\n",
    ")\n",
    "\n",
    "# Summary of splits\n",
    "print(f\"Train images: {len(train_data['images'])}, Train labels: {len(train_data['labels'])}\")\n",
    "print(f\"Validation images: {len(val_data['images'])}, Validation labels: {len(val_data['labels'])}\")\n",
    "print(f\"Test images: {len(test_data['images'])}, Test labels: {len(test_data['labels'])}\")"
   ]
  },
  {
   "cell_type": "code",
   "execution_count": 3,
   "metadata": {},
   "outputs": [],
   "source": [
    "n_iter = 50\n",
    "\n",
    "nfeatures_arr = uniform(loc=300, scale=400).rvs(n_iter).round().astype(int)    # uniform over [300, 700]\n",
    "patchSize_arr = uniform(loc=3, scale=9).rvs(n_iter).round().astype(int)        # uniform over [3, 12]\n",
    "scaleFactor_arr = uniform(loc=1.1, scale=0.4).rvs(n_iter).round(2)             # uniform over [1.1, 1.5]\n",
    "n_clusters_arr = uniform(loc=100, scale=200).rvs(n_iter).round().astype(int)   # uniform over [100, 300]"
   ]
  },
  {
   "cell_type": "code",
   "execution_count": 4,
   "metadata": {},
   "outputs": [
    {
     "name": "stdout",
     "output_type": "stream",
     "text": [
      "Getting ORB keypoints...\n"
     ]
    },
    {
     "name": "stderr",
     "output_type": "stream",
     "text": [
      "100%|██████████| 1456/1456 [00:06<00:00, 235.26it/s]\n"
     ]
    },
    {
     "name": "stdout",
     "output_type": "stream",
     "text": [
      "No kmeans was provided, so fitting a new one...\n",
      "Getting ORB keypoints...\n"
     ]
    },
    {
     "name": "stderr",
     "output_type": "stream",
     "text": [
      "100%|██████████| 415/415 [00:00<00:00, 441.73it/s]\n"
     ]
    },
    {
     "name": "stdout",
     "output_type": "stream",
     "text": [
      "Getting ORB keypoints...\n"
     ]
    },
    {
     "name": "stderr",
     "output_type": "stream",
     "text": [
      "100%|██████████| 1456/1456 [00:09<00:00, 153.71it/s]\n"
     ]
    },
    {
     "name": "stdout",
     "output_type": "stream",
     "text": [
      "No kmeans was provided, so fitting a new one...\n",
      "Getting ORB keypoints...\n"
     ]
    },
    {
     "name": "stderr",
     "output_type": "stream",
     "text": [
      "100%|██████████| 415/415 [00:01<00:00, 357.29it/s]\n"
     ]
    },
    {
     "name": "stdout",
     "output_type": "stream",
     "text": [
      "Getting ORB keypoints...\n"
     ]
    },
    {
     "name": "stderr",
     "output_type": "stream",
     "text": [
      "100%|██████████| 1456/1456 [00:06<00:00, 229.28it/s]\n"
     ]
    },
    {
     "name": "stdout",
     "output_type": "stream",
     "text": [
      "No kmeans was provided, so fitting a new one...\n",
      "Getting ORB keypoints...\n"
     ]
    },
    {
     "name": "stderr",
     "output_type": "stream",
     "text": [
      "100%|██████████| 415/415 [00:01<00:00, 408.49it/s]\n"
     ]
    },
    {
     "name": "stdout",
     "output_type": "stream",
     "text": [
      "Getting ORB keypoints...\n"
     ]
    },
    {
     "name": "stderr",
     "output_type": "stream",
     "text": [
      "100%|██████████| 1456/1456 [00:11<00:00, 127.98it/s]\n"
     ]
    },
    {
     "name": "stdout",
     "output_type": "stream",
     "text": [
      "No kmeans was provided, so fitting a new one...\n",
      "Getting ORB keypoints...\n"
     ]
    },
    {
     "name": "stderr",
     "output_type": "stream",
     "text": [
      "100%|██████████| 415/415 [00:01<00:00, 283.69it/s]\n"
     ]
    },
    {
     "name": "stdout",
     "output_type": "stream",
     "text": [
      "Getting ORB keypoints...\n"
     ]
    },
    {
     "name": "stderr",
     "output_type": "stream",
     "text": [
      "100%|██████████| 1456/1456 [00:09<00:00, 152.97it/s]\n"
     ]
    },
    {
     "name": "stdout",
     "output_type": "stream",
     "text": [
      "No kmeans was provided, so fitting a new one...\n",
      "Getting ORB keypoints...\n"
     ]
    },
    {
     "name": "stderr",
     "output_type": "stream",
     "text": [
      "100%|██████████| 415/415 [00:01<00:00, 250.25it/s]\n"
     ]
    },
    {
     "name": "stdout",
     "output_type": "stream",
     "text": [
      "Getting ORB keypoints...\n"
     ]
    },
    {
     "name": "stderr",
     "output_type": "stream",
     "text": [
      "100%|██████████| 1456/1456 [00:06<00:00, 219.78it/s]\n"
     ]
    },
    {
     "name": "stdout",
     "output_type": "stream",
     "text": [
      "No kmeans was provided, so fitting a new one...\n",
      "Getting ORB keypoints...\n"
     ]
    },
    {
     "name": "stderr",
     "output_type": "stream",
     "text": [
      "100%|██████████| 415/415 [00:01<00:00, 405.57it/s]\n"
     ]
    },
    {
     "name": "stdout",
     "output_type": "stream",
     "text": [
      "Getting ORB keypoints...\n"
     ]
    },
    {
     "name": "stderr",
     "output_type": "stream",
     "text": [
      "100%|██████████| 1456/1456 [00:08<00:00, 172.22it/s]\n"
     ]
    },
    {
     "name": "stdout",
     "output_type": "stream",
     "text": [
      "No kmeans was provided, so fitting a new one...\n",
      "Getting ORB keypoints...\n"
     ]
    },
    {
     "name": "stderr",
     "output_type": "stream",
     "text": [
      "100%|██████████| 415/415 [00:01<00:00, 345.25it/s]\n"
     ]
    },
    {
     "name": "stdout",
     "output_type": "stream",
     "text": [
      "Getting ORB keypoints...\n"
     ]
    },
    {
     "name": "stderr",
     "output_type": "stream",
     "text": [
      "100%|██████████| 1456/1456 [00:07<00:00, 192.61it/s]\n"
     ]
    },
    {
     "name": "stdout",
     "output_type": "stream",
     "text": [
      "No kmeans was provided, so fitting a new one...\n",
      "Getting ORB keypoints...\n"
     ]
    },
    {
     "name": "stderr",
     "output_type": "stream",
     "text": [
      "100%|██████████| 415/415 [00:01<00:00, 381.48it/s]\n"
     ]
    },
    {
     "name": "stdout",
     "output_type": "stream",
     "text": [
      "Getting ORB keypoints...\n"
     ]
    },
    {
     "name": "stderr",
     "output_type": "stream",
     "text": [
      "100%|██████████| 1456/1456 [00:05<00:00, 271.94it/s]\n"
     ]
    },
    {
     "name": "stdout",
     "output_type": "stream",
     "text": [
      "No kmeans was provided, so fitting a new one...\n",
      "Getting ORB keypoints...\n"
     ]
    },
    {
     "name": "stderr",
     "output_type": "stream",
     "text": [
      "100%|██████████| 415/415 [00:01<00:00, 393.43it/s]\n"
     ]
    },
    {
     "name": "stdout",
     "output_type": "stream",
     "text": [
      "Getting ORB keypoints...\n"
     ]
    },
    {
     "name": "stderr",
     "output_type": "stream",
     "text": [
      "100%|██████████| 1456/1456 [00:06<00:00, 240.60it/s]\n"
     ]
    },
    {
     "name": "stdout",
     "output_type": "stream",
     "text": [
      "No kmeans was provided, so fitting a new one...\n",
      "Getting ORB keypoints...\n"
     ]
    },
    {
     "name": "stderr",
     "output_type": "stream",
     "text": [
      "100%|██████████| 415/415 [00:01<00:00, 407.24it/s]\n"
     ]
    },
    {
     "name": "stdout",
     "output_type": "stream",
     "text": [
      "Getting ORB keypoints...\n"
     ]
    },
    {
     "name": "stderr",
     "output_type": "stream",
     "text": [
      "100%|██████████| 1456/1456 [00:08<00:00, 180.56it/s]\n"
     ]
    },
    {
     "name": "stdout",
     "output_type": "stream",
     "text": [
      "No kmeans was provided, so fitting a new one...\n",
      "Getting ORB keypoints...\n"
     ]
    },
    {
     "name": "stderr",
     "output_type": "stream",
     "text": [
      "100%|██████████| 415/415 [00:01<00:00, 319.76it/s]\n"
     ]
    },
    {
     "name": "stdout",
     "output_type": "stream",
     "text": [
      "Getting ORB keypoints...\n"
     ]
    },
    {
     "name": "stderr",
     "output_type": "stream",
     "text": [
      "100%|██████████| 1456/1456 [00:06<00:00, 209.24it/s]\n"
     ]
    },
    {
     "name": "stdout",
     "output_type": "stream",
     "text": [
      "No kmeans was provided, so fitting a new one...\n",
      "Getting ORB keypoints...\n"
     ]
    },
    {
     "name": "stderr",
     "output_type": "stream",
     "text": [
      "100%|██████████| 415/415 [00:01<00:00, 375.26it/s]\n"
     ]
    },
    {
     "name": "stdout",
     "output_type": "stream",
     "text": [
      "Getting ORB keypoints...\n"
     ]
    },
    {
     "name": "stderr",
     "output_type": "stream",
     "text": [
      "100%|██████████| 1456/1456 [00:06<00:00, 218.13it/s]\n"
     ]
    },
    {
     "name": "stdout",
     "output_type": "stream",
     "text": [
      "No kmeans was provided, so fitting a new one...\n",
      "Getting ORB keypoints...\n"
     ]
    },
    {
     "name": "stderr",
     "output_type": "stream",
     "text": [
      "100%|██████████| 415/415 [00:00<00:00, 422.93it/s]\n"
     ]
    },
    {
     "name": "stdout",
     "output_type": "stream",
     "text": [
      "Getting ORB keypoints...\n"
     ]
    },
    {
     "name": "stderr",
     "output_type": "stream",
     "text": [
      "100%|██████████| 1456/1456 [00:06<00:00, 238.77it/s]\n"
     ]
    },
    {
     "name": "stdout",
     "output_type": "stream",
     "text": [
      "No kmeans was provided, so fitting a new one...\n",
      "Getting ORB keypoints...\n"
     ]
    },
    {
     "name": "stderr",
     "output_type": "stream",
     "text": [
      "100%|██████████| 415/415 [00:00<00:00, 527.49it/s]\n"
     ]
    },
    {
     "name": "stdout",
     "output_type": "stream",
     "text": [
      "Getting ORB keypoints...\n"
     ]
    },
    {
     "name": "stderr",
     "output_type": "stream",
     "text": [
      "100%|██████████| 1456/1456 [00:10<00:00, 139.39it/s]\n"
     ]
    },
    {
     "name": "stdout",
     "output_type": "stream",
     "text": [
      "No kmeans was provided, so fitting a new one...\n",
      "Getting ORB keypoints...\n"
     ]
    },
    {
     "name": "stderr",
     "output_type": "stream",
     "text": [
      "100%|██████████| 415/415 [00:01<00:00, 240.33it/s]\n"
     ]
    },
    {
     "name": "stdout",
     "output_type": "stream",
     "text": [
      "Getting ORB keypoints...\n"
     ]
    },
    {
     "name": "stderr",
     "output_type": "stream",
     "text": [
      "100%|██████████| 1456/1456 [00:07<00:00, 190.84it/s]\n"
     ]
    },
    {
     "name": "stdout",
     "output_type": "stream",
     "text": [
      "No kmeans was provided, so fitting a new one...\n",
      "Getting ORB keypoints...\n"
     ]
    },
    {
     "name": "stderr",
     "output_type": "stream",
     "text": [
      "100%|██████████| 415/415 [00:00<00:00, 433.24it/s]\n"
     ]
    },
    {
     "name": "stdout",
     "output_type": "stream",
     "text": [
      "Getting ORB keypoints...\n"
     ]
    },
    {
     "name": "stderr",
     "output_type": "stream",
     "text": [
      "100%|██████████| 1456/1456 [00:08<00:00, 177.45it/s]\n"
     ]
    },
    {
     "name": "stdout",
     "output_type": "stream",
     "text": [
      "No kmeans was provided, so fitting a new one...\n",
      "Getting ORB keypoints...\n"
     ]
    },
    {
     "name": "stderr",
     "output_type": "stream",
     "text": [
      "100%|██████████| 415/415 [00:01<00:00, 377.99it/s]\n"
     ]
    },
    {
     "name": "stdout",
     "output_type": "stream",
     "text": [
      "Getting ORB keypoints...\n"
     ]
    },
    {
     "name": "stderr",
     "output_type": "stream",
     "text": [
      "100%|██████████| 1456/1456 [00:07<00:00, 200.20it/s]\n"
     ]
    },
    {
     "name": "stdout",
     "output_type": "stream",
     "text": [
      "No kmeans was provided, so fitting a new one...\n",
      "Getting ORB keypoints...\n"
     ]
    },
    {
     "name": "stderr",
     "output_type": "stream",
     "text": [
      "100%|██████████| 415/415 [00:01<00:00, 304.28it/s]\n"
     ]
    },
    {
     "name": "stdout",
     "output_type": "stream",
     "text": [
      "Getting ORB keypoints...\n"
     ]
    },
    {
     "name": "stderr",
     "output_type": "stream",
     "text": [
      "100%|██████████| 1456/1456 [00:05<00:00, 252.02it/s]\n"
     ]
    },
    {
     "name": "stdout",
     "output_type": "stream",
     "text": [
      "No kmeans was provided, so fitting a new one...\n",
      "Getting ORB keypoints...\n"
     ]
    },
    {
     "name": "stderr",
     "output_type": "stream",
     "text": [
      "100%|██████████| 415/415 [00:01<00:00, 392.49it/s]\n"
     ]
    },
    {
     "name": "stdout",
     "output_type": "stream",
     "text": [
      "Getting ORB keypoints...\n"
     ]
    },
    {
     "name": "stderr",
     "output_type": "stream",
     "text": [
      "100%|██████████| 1456/1456 [00:07<00:00, 183.83it/s]\n"
     ]
    },
    {
     "name": "stdout",
     "output_type": "stream",
     "text": [
      "No kmeans was provided, so fitting a new one...\n",
      "Getting ORB keypoints...\n"
     ]
    },
    {
     "name": "stderr",
     "output_type": "stream",
     "text": [
      "100%|██████████| 415/415 [00:00<00:00, 417.24it/s]\n"
     ]
    },
    {
     "name": "stdout",
     "output_type": "stream",
     "text": [
      "Getting ORB keypoints...\n"
     ]
    },
    {
     "name": "stderr",
     "output_type": "stream",
     "text": [
      "100%|██████████| 1456/1456 [00:11<00:00, 129.17it/s]\n"
     ]
    },
    {
     "name": "stdout",
     "output_type": "stream",
     "text": [
      "No kmeans was provided, so fitting a new one...\n",
      "Getting ORB keypoints...\n"
     ]
    },
    {
     "name": "stderr",
     "output_type": "stream",
     "text": [
      "100%|██████████| 415/415 [00:01<00:00, 234.78it/s]\n"
     ]
    },
    {
     "name": "stdout",
     "output_type": "stream",
     "text": [
      "Getting ORB keypoints...\n"
     ]
    },
    {
     "name": "stderr",
     "output_type": "stream",
     "text": [
      "100%|██████████| 1456/1456 [00:09<00:00, 159.39it/s]\n"
     ]
    },
    {
     "name": "stdout",
     "output_type": "stream",
     "text": [
      "No kmeans was provided, so fitting a new one...\n",
      "Getting ORB keypoints...\n"
     ]
    },
    {
     "name": "stderr",
     "output_type": "stream",
     "text": [
      "100%|██████████| 415/415 [00:01<00:00, 370.19it/s]\n"
     ]
    },
    {
     "name": "stdout",
     "output_type": "stream",
     "text": [
      "Getting ORB keypoints...\n"
     ]
    },
    {
     "name": "stderr",
     "output_type": "stream",
     "text": [
      "100%|██████████| 1456/1456 [00:09<00:00, 150.24it/s]\n"
     ]
    },
    {
     "name": "stdout",
     "output_type": "stream",
     "text": [
      "No kmeans was provided, so fitting a new one...\n",
      "Getting ORB keypoints...\n"
     ]
    },
    {
     "name": "stderr",
     "output_type": "stream",
     "text": [
      "100%|██████████| 415/415 [00:01<00:00, 310.23it/s]\n"
     ]
    },
    {
     "name": "stdout",
     "output_type": "stream",
     "text": [
      "Getting ORB keypoints...\n"
     ]
    },
    {
     "name": "stderr",
     "output_type": "stream",
     "text": [
      "100%|██████████| 1456/1456 [00:06<00:00, 213.39it/s]\n"
     ]
    },
    {
     "name": "stdout",
     "output_type": "stream",
     "text": [
      "No kmeans was provided, so fitting a new one...\n",
      "Getting ORB keypoints...\n"
     ]
    },
    {
     "name": "stderr",
     "output_type": "stream",
     "text": [
      "100%|██████████| 415/415 [00:00<00:00, 485.84it/s]\n"
     ]
    },
    {
     "name": "stdout",
     "output_type": "stream",
     "text": [
      "Getting ORB keypoints...\n"
     ]
    },
    {
     "name": "stderr",
     "output_type": "stream",
     "text": [
      "100%|██████████| 1456/1456 [00:08<00:00, 163.06it/s]\n"
     ]
    },
    {
     "name": "stdout",
     "output_type": "stream",
     "text": [
      "No kmeans was provided, so fitting a new one...\n",
      "Getting ORB keypoints...\n"
     ]
    },
    {
     "name": "stderr",
     "output_type": "stream",
     "text": [
      "100%|██████████| 415/415 [00:01<00:00, 318.76it/s]\n"
     ]
    },
    {
     "name": "stdout",
     "output_type": "stream",
     "text": [
      "Getting ORB keypoints...\n"
     ]
    },
    {
     "name": "stderr",
     "output_type": "stream",
     "text": [
      "100%|██████████| 1456/1456 [00:06<00:00, 227.45it/s]\n"
     ]
    },
    {
     "name": "stdout",
     "output_type": "stream",
     "text": [
      "No kmeans was provided, so fitting a new one...\n",
      "Getting ORB keypoints...\n"
     ]
    },
    {
     "name": "stderr",
     "output_type": "stream",
     "text": [
      "100%|██████████| 415/415 [00:01<00:00, 374.01it/s]\n"
     ]
    },
    {
     "name": "stdout",
     "output_type": "stream",
     "text": [
      "Getting ORB keypoints...\n"
     ]
    },
    {
     "name": "stderr",
     "output_type": "stream",
     "text": [
      "100%|██████████| 1456/1456 [00:06<00:00, 233.67it/s]\n"
     ]
    },
    {
     "name": "stdout",
     "output_type": "stream",
     "text": [
      "No kmeans was provided, so fitting a new one...\n",
      "Getting ORB keypoints...\n"
     ]
    },
    {
     "name": "stderr",
     "output_type": "stream",
     "text": [
      "100%|██████████| 415/415 [00:01<00:00, 406.66it/s]\n"
     ]
    },
    {
     "name": "stdout",
     "output_type": "stream",
     "text": [
      "Getting ORB keypoints...\n"
     ]
    },
    {
     "name": "stderr",
     "output_type": "stream",
     "text": [
      "100%|██████████| 1456/1456 [00:07<00:00, 198.62it/s]\n"
     ]
    },
    {
     "name": "stdout",
     "output_type": "stream",
     "text": [
      "No kmeans was provided, so fitting a new one...\n",
      "Getting ORB keypoints...\n"
     ]
    },
    {
     "name": "stderr",
     "output_type": "stream",
     "text": [
      "100%|██████████| 415/415 [00:01<00:00, 396.09it/s]\n"
     ]
    },
    {
     "name": "stdout",
     "output_type": "stream",
     "text": [
      "Getting ORB keypoints...\n"
     ]
    },
    {
     "name": "stderr",
     "output_type": "stream",
     "text": [
      "100%|██████████| 1456/1456 [00:06<00:00, 226.72it/s]\n"
     ]
    },
    {
     "name": "stdout",
     "output_type": "stream",
     "text": [
      "No kmeans was provided, so fitting a new one...\n",
      "Getting ORB keypoints...\n"
     ]
    },
    {
     "name": "stderr",
     "output_type": "stream",
     "text": [
      "100%|██████████| 415/415 [00:01<00:00, 398.56it/s]\n"
     ]
    },
    {
     "name": "stdout",
     "output_type": "stream",
     "text": [
      "Getting ORB keypoints...\n"
     ]
    },
    {
     "name": "stderr",
     "output_type": "stream",
     "text": [
      "100%|██████████| 1456/1456 [00:08<00:00, 164.30it/s]\n"
     ]
    },
    {
     "name": "stdout",
     "output_type": "stream",
     "text": [
      "No kmeans was provided, so fitting a new one...\n",
      "Getting ORB keypoints...\n"
     ]
    },
    {
     "name": "stderr",
     "output_type": "stream",
     "text": [
      "100%|██████████| 415/415 [00:01<00:00, 374.03it/s]\n"
     ]
    },
    {
     "name": "stdout",
     "output_type": "stream",
     "text": [
      "Getting ORB keypoints...\n"
     ]
    },
    {
     "name": "stderr",
     "output_type": "stream",
     "text": [
      "100%|██████████| 1456/1456 [00:07<00:00, 193.05it/s]\n"
     ]
    },
    {
     "name": "stdout",
     "output_type": "stream",
     "text": [
      "No kmeans was provided, so fitting a new one...\n",
      "Getting ORB keypoints...\n"
     ]
    },
    {
     "name": "stderr",
     "output_type": "stream",
     "text": [
      "100%|██████████| 415/415 [00:00<00:00, 439.55it/s]\n"
     ]
    },
    {
     "name": "stdout",
     "output_type": "stream",
     "text": [
      "Getting ORB keypoints...\n"
     ]
    },
    {
     "name": "stderr",
     "output_type": "stream",
     "text": [
      "100%|██████████| 1456/1456 [00:07<00:00, 182.70it/s]\n"
     ]
    },
    {
     "name": "stdout",
     "output_type": "stream",
     "text": [
      "No kmeans was provided, so fitting a new one...\n",
      "Getting ORB keypoints...\n"
     ]
    },
    {
     "name": "stderr",
     "output_type": "stream",
     "text": [
      "100%|██████████| 415/415 [00:01<00:00, 281.90it/s]\n"
     ]
    },
    {
     "name": "stdout",
     "output_type": "stream",
     "text": [
      "Getting ORB keypoints...\n"
     ]
    },
    {
     "name": "stderr",
     "output_type": "stream",
     "text": [
      "100%|██████████| 1456/1456 [00:09<00:00, 158.46it/s]\n"
     ]
    },
    {
     "name": "stdout",
     "output_type": "stream",
     "text": [
      "No kmeans was provided, so fitting a new one...\n",
      "Getting ORB keypoints...\n"
     ]
    },
    {
     "name": "stderr",
     "output_type": "stream",
     "text": [
      "100%|██████████| 415/415 [00:01<00:00, 347.85it/s]\n"
     ]
    },
    {
     "name": "stdout",
     "output_type": "stream",
     "text": [
      "Getting ORB keypoints...\n"
     ]
    },
    {
     "name": "stderr",
     "output_type": "stream",
     "text": [
      "100%|██████████| 1456/1456 [00:09<00:00, 158.93it/s]\n"
     ]
    },
    {
     "name": "stdout",
     "output_type": "stream",
     "text": [
      "No kmeans was provided, so fitting a new one...\n",
      "Getting ORB keypoints...\n"
     ]
    },
    {
     "name": "stderr",
     "output_type": "stream",
     "text": [
      "100%|██████████| 415/415 [00:01<00:00, 360.72it/s]\n"
     ]
    },
    {
     "name": "stdout",
     "output_type": "stream",
     "text": [
      "Getting ORB keypoints...\n"
     ]
    },
    {
     "name": "stderr",
     "output_type": "stream",
     "text": [
      "100%|██████████| 1456/1456 [00:04<00:00, 323.41it/s]\n"
     ]
    },
    {
     "name": "stdout",
     "output_type": "stream",
     "text": [
      "No kmeans was provided, so fitting a new one...\n",
      "Getting ORB keypoints...\n"
     ]
    },
    {
     "name": "stderr",
     "output_type": "stream",
     "text": [
      "100%|██████████| 415/415 [00:00<00:00, 506.19it/s]\n"
     ]
    },
    {
     "name": "stdout",
     "output_type": "stream",
     "text": [
      "Getting ORB keypoints...\n"
     ]
    },
    {
     "name": "stderr",
     "output_type": "stream",
     "text": [
      "100%|██████████| 1456/1456 [00:08<00:00, 167.75it/s]\n"
     ]
    },
    {
     "name": "stdout",
     "output_type": "stream",
     "text": [
      "No kmeans was provided, so fitting a new one...\n",
      "Getting ORB keypoints...\n"
     ]
    },
    {
     "name": "stderr",
     "output_type": "stream",
     "text": [
      "100%|██████████| 415/415 [00:01<00:00, 385.81it/s]\n"
     ]
    },
    {
     "name": "stdout",
     "output_type": "stream",
     "text": [
      "Getting ORB keypoints...\n"
     ]
    },
    {
     "name": "stderr",
     "output_type": "stream",
     "text": [
      "100%|██████████| 1456/1456 [00:05<00:00, 261.40it/s]\n"
     ]
    },
    {
     "name": "stdout",
     "output_type": "stream",
     "text": [
      "No kmeans was provided, so fitting a new one...\n",
      "Getting ORB keypoints...\n"
     ]
    },
    {
     "name": "stderr",
     "output_type": "stream",
     "text": [
      "100%|██████████| 415/415 [00:00<00:00, 431.08it/s]\n"
     ]
    },
    {
     "name": "stdout",
     "output_type": "stream",
     "text": [
      "Getting ORB keypoints...\n"
     ]
    },
    {
     "name": "stderr",
     "output_type": "stream",
     "text": [
      "100%|██████████| 1456/1456 [00:07<00:00, 187.00it/s]\n"
     ]
    },
    {
     "name": "stdout",
     "output_type": "stream",
     "text": [
      "No kmeans was provided, so fitting a new one...\n",
      "Getting ORB keypoints...\n"
     ]
    },
    {
     "name": "stderr",
     "output_type": "stream",
     "text": [
      "100%|██████████| 415/415 [00:01<00:00, 385.92it/s]\n"
     ]
    },
    {
     "name": "stdout",
     "output_type": "stream",
     "text": [
      "Getting ORB keypoints...\n"
     ]
    },
    {
     "name": "stderr",
     "output_type": "stream",
     "text": [
      "100%|██████████| 1456/1456 [00:08<00:00, 171.32it/s]\n"
     ]
    },
    {
     "name": "stdout",
     "output_type": "stream",
     "text": [
      "No kmeans was provided, so fitting a new one...\n",
      "Getting ORB keypoints...\n"
     ]
    },
    {
     "name": "stderr",
     "output_type": "stream",
     "text": [
      "100%|██████████| 415/415 [00:01<00:00, 373.63it/s]\n"
     ]
    },
    {
     "name": "stdout",
     "output_type": "stream",
     "text": [
      "Getting ORB keypoints...\n"
     ]
    },
    {
     "name": "stderr",
     "output_type": "stream",
     "text": [
      "100%|██████████| 1456/1456 [00:08<00:00, 167.54it/s]\n"
     ]
    },
    {
     "name": "stdout",
     "output_type": "stream",
     "text": [
      "No kmeans was provided, so fitting a new one...\n",
      "Getting ORB keypoints...\n"
     ]
    },
    {
     "name": "stderr",
     "output_type": "stream",
     "text": [
      "100%|██████████| 415/415 [00:01<00:00, 344.71it/s]\n"
     ]
    },
    {
     "name": "stdout",
     "output_type": "stream",
     "text": [
      "Getting ORB keypoints...\n"
     ]
    },
    {
     "name": "stderr",
     "output_type": "stream",
     "text": [
      "100%|██████████| 1456/1456 [00:07<00:00, 188.22it/s]\n"
     ]
    },
    {
     "name": "stdout",
     "output_type": "stream",
     "text": [
      "No kmeans was provided, so fitting a new one...\n",
      "Getting ORB keypoints...\n"
     ]
    },
    {
     "name": "stderr",
     "output_type": "stream",
     "text": [
      "100%|██████████| 415/415 [00:01<00:00, 301.13it/s]\n"
     ]
    },
    {
     "name": "stdout",
     "output_type": "stream",
     "text": [
      "Getting ORB keypoints...\n"
     ]
    },
    {
     "name": "stderr",
     "output_type": "stream",
     "text": [
      "100%|██████████| 1456/1456 [00:06<00:00, 229.52it/s]\n"
     ]
    },
    {
     "name": "stdout",
     "output_type": "stream",
     "text": [
      "No kmeans was provided, so fitting a new one...\n",
      "Getting ORB keypoints...\n"
     ]
    },
    {
     "name": "stderr",
     "output_type": "stream",
     "text": [
      "100%|██████████| 415/415 [00:01<00:00, 332.11it/s]\n"
     ]
    },
    {
     "name": "stdout",
     "output_type": "stream",
     "text": [
      "Getting ORB keypoints...\n"
     ]
    },
    {
     "name": "stderr",
     "output_type": "stream",
     "text": [
      "100%|██████████| 1456/1456 [00:07<00:00, 193.46it/s]\n"
     ]
    },
    {
     "name": "stdout",
     "output_type": "stream",
     "text": [
      "No kmeans was provided, so fitting a new one...\n",
      "Getting ORB keypoints...\n"
     ]
    },
    {
     "name": "stderr",
     "output_type": "stream",
     "text": [
      "100%|██████████| 415/415 [00:01<00:00, 368.06it/s]\n"
     ]
    },
    {
     "name": "stdout",
     "output_type": "stream",
     "text": [
      "Getting ORB keypoints...\n"
     ]
    },
    {
     "name": "stderr",
     "output_type": "stream",
     "text": [
      "100%|██████████| 1456/1456 [00:07<00:00, 207.67it/s]\n"
     ]
    },
    {
     "name": "stdout",
     "output_type": "stream",
     "text": [
      "No kmeans was provided, so fitting a new one...\n",
      "Getting ORB keypoints...\n"
     ]
    },
    {
     "name": "stderr",
     "output_type": "stream",
     "text": [
      "100%|██████████| 415/415 [00:01<00:00, 372.58it/s]\n"
     ]
    },
    {
     "name": "stdout",
     "output_type": "stream",
     "text": [
      "Getting ORB keypoints...\n"
     ]
    },
    {
     "name": "stderr",
     "output_type": "stream",
     "text": [
      "100%|██████████| 1456/1456 [00:07<00:00, 201.84it/s]\n"
     ]
    },
    {
     "name": "stdout",
     "output_type": "stream",
     "text": [
      "No kmeans was provided, so fitting a new one...\n",
      "Getting ORB keypoints...\n"
     ]
    },
    {
     "name": "stderr",
     "output_type": "stream",
     "text": [
      "100%|██████████| 415/415 [00:01<00:00, 349.07it/s]\n"
     ]
    },
    {
     "name": "stdout",
     "output_type": "stream",
     "text": [
      "Getting ORB keypoints...\n"
     ]
    },
    {
     "name": "stderr",
     "output_type": "stream",
     "text": [
      "100%|██████████| 1456/1456 [00:06<00:00, 225.07it/s]\n"
     ]
    },
    {
     "name": "stdout",
     "output_type": "stream",
     "text": [
      "No kmeans was provided, so fitting a new one...\n",
      "Getting ORB keypoints...\n"
     ]
    },
    {
     "name": "stderr",
     "output_type": "stream",
     "text": [
      "100%|██████████| 415/415 [00:00<00:00, 484.60it/s]\n"
     ]
    },
    {
     "name": "stdout",
     "output_type": "stream",
     "text": [
      "Getting ORB keypoints...\n"
     ]
    },
    {
     "name": "stderr",
     "output_type": "stream",
     "text": [
      "100%|██████████| 1456/1456 [00:08<00:00, 173.31it/s]\n"
     ]
    },
    {
     "name": "stdout",
     "output_type": "stream",
     "text": [
      "No kmeans was provided, so fitting a new one...\n",
      "Getting ORB keypoints...\n"
     ]
    },
    {
     "name": "stderr",
     "output_type": "stream",
     "text": [
      "100%|██████████| 415/415 [00:01<00:00, 324.60it/s]\n"
     ]
    },
    {
     "name": "stdout",
     "output_type": "stream",
     "text": [
      "Getting ORB keypoints...\n"
     ]
    },
    {
     "name": "stderr",
     "output_type": "stream",
     "text": [
      "100%|██████████| 1456/1456 [00:07<00:00, 184.78it/s]\n"
     ]
    },
    {
     "name": "stdout",
     "output_type": "stream",
     "text": [
      "No kmeans was provided, so fitting a new one...\n",
      "Getting ORB keypoints...\n"
     ]
    },
    {
     "name": "stderr",
     "output_type": "stream",
     "text": [
      "100%|██████████| 415/415 [00:01<00:00, 283.19it/s]\n"
     ]
    },
    {
     "name": "stdout",
     "output_type": "stream",
     "text": [
      "Getting ORB keypoints...\n"
     ]
    },
    {
     "name": "stderr",
     "output_type": "stream",
     "text": [
      "100%|██████████| 1456/1456 [00:09<00:00, 156.34it/s]\n"
     ]
    },
    {
     "name": "stdout",
     "output_type": "stream",
     "text": [
      "No kmeans was provided, so fitting a new one...\n",
      "Getting ORB keypoints...\n"
     ]
    },
    {
     "name": "stderr",
     "output_type": "stream",
     "text": [
      "100%|██████████| 415/415 [00:01<00:00, 287.45it/s]\n"
     ]
    },
    {
     "name": "stdout",
     "output_type": "stream",
     "text": [
      "Getting ORB keypoints...\n"
     ]
    },
    {
     "name": "stderr",
     "output_type": "stream",
     "text": [
      "100%|██████████| 1456/1456 [00:07<00:00, 202.81it/s]\n"
     ]
    },
    {
     "name": "stdout",
     "output_type": "stream",
     "text": [
      "No kmeans was provided, so fitting a new one...\n",
      "Getting ORB keypoints...\n"
     ]
    },
    {
     "name": "stderr",
     "output_type": "stream",
     "text": [
      "100%|██████████| 415/415 [00:01<00:00, 327.83it/s]\n"
     ]
    }
   ],
   "source": [
    "train_acc = []\n",
    "val_acc = []\n",
    "for idx in range(n_iter):\n",
    "    X_train, kmeans, transformer = get_orb_features(\n",
    "        imgs=train_data['images'],\n",
    "        nfeatures=nfeatures_arr[idx],\n",
    "        patchSize=patchSize_arr[idx],\n",
    "        scaleFactor=scaleFactor_arr[idx],\n",
    "        n_clusters=n_clusters_arr[idx]\n",
    "    )\n",
    "    X_val, _, _ = get_orb_features(\n",
    "        imgs=val_data['images'],\n",
    "        nfeatures=nfeatures_arr[idx],\n",
    "        patchSize=patchSize_arr[idx],\n",
    "        scaleFactor=scaleFactor_arr[idx],\n",
    "        n_clusters=n_clusters_arr[idx],\n",
    "        kmeans=kmeans,\n",
    "        transformer=transformer\n",
    "    )\n",
    "    \n",
    "    model = svm.SVC(decision_function_shape='ovr')\n",
    "    model.fit(X_train, train_data['labels'])\n",
    "    y_train_pred = model.predict(X_train)\n",
    "    y_val_pred = model.predict(X_val)\n",
    "    train_acc.append(accuracy_score(y_train_pred, train_data['labels']))\n",
    "    val_acc.append(accuracy_score(y_val_pred, val_data['labels']))"
   ]
  },
  {
   "cell_type": "code",
   "execution_count": 5,
   "metadata": {},
   "outputs": [],
   "source": [
    "train_acc = np.array(train_acc)\n",
    "val_acc = np.array(val_acc)"
   ]
  },
  {
   "cell_type": "code",
   "execution_count": 6,
   "metadata": {},
   "outputs": [],
   "source": [
    "best_idx = val_acc.argmax()\n",
    "best_params = {\n",
    "    'nfeatures':nfeatures_arr[best_idx],\n",
    "    'patchSize':patchSize_arr[best_idx],\n",
    "    'scaleFactor':scaleFactor_arr[best_idx],\n",
    "    'n_clusters':n_clusters_arr[best_idx]\n",
    "}"
   ]
  },
  {
   "cell_type": "code",
   "execution_count": 7,
   "metadata": {},
   "outputs": [
    {
     "data": {
      "text/plain": [
       "{'nfeatures': 584, 'patchSize': 11, 'scaleFactor': 1.24, 'n_clusters': 268}"
      ]
     },
     "execution_count": 7,
     "metadata": {},
     "output_type": "execute_result"
    }
   ],
   "source": [
    "best_params"
   ]
  },
  {
   "cell_type": "code",
   "execution_count": 9,
   "metadata": {},
   "outputs": [
    {
     "data": {
      "text/plain": [
       "(0.8921703296703297,\n",
       " 0.5734939759036145,\n",
       " 0.6593406593406593,\n",
       " 0.40481927710843374)"
      ]
     },
     "execution_count": 9,
     "metadata": {},
     "output_type": "execute_result"
    }
   ],
   "source": [
    "train_acc[best_idx], val_acc[best_idx], train_acc.min(), val_acc.min()"
   ]
  },
  {
   "cell_type": "code",
   "execution_count": 12,
   "metadata": {},
   "outputs": [
    {
     "name": "stdout",
     "output_type": "stream",
     "text": [
      "Getting ORB keypoints...\n"
     ]
    },
    {
     "name": "stderr",
     "output_type": "stream",
     "text": [
      "100%|██████████| 1456/1456 [00:16<00:00, 90.82it/s] \n"
     ]
    },
    {
     "name": "stdout",
     "output_type": "stream",
     "text": [
      "No kmeans was provided, so fitting a new one...\n",
      "Getting ORB keypoints...\n"
     ]
    },
    {
     "name": "stderr",
     "output_type": "stream",
     "text": [
      "100%|██████████| 415/415 [00:02<00:00, 184.08it/s]\n"
     ]
    }
   ],
   "source": [
    "X_train, kmeans, transformer = get_orb_features(\n",
    "        imgs=train_data['images'],\n",
    "        nfeatures=584,\n",
    "        patchSize=11,\n",
    "        scaleFactor=1.24,\n",
    "        n_clusters=268\n",
    "    )\n",
    "X_val, _, _ = get_orb_features(\n",
    "        imgs=val_data['images'],\n",
    "        nfeatures=584,\n",
    "        patchSize=11,\n",
    "        scaleFactor=1.24,\n",
    "        n_clusters=268,\n",
    "        kmeans=kmeans,\n",
    "        transformer=transformer\n",
    "    )\n",
    "    \n",
    "model = svm.SVC(decision_function_shape='ovr')\n",
    "model.fit(X_train, train_data['labels'])\n",
    "y_train_pred = model.predict(X_train)\n",
    "y_val_pred = model.predict(X_val)"
   ]
  },
  {
   "cell_type": "code",
   "execution_count": 23,
   "metadata": {},
   "outputs": [
    {
     "name": "stdout",
     "output_type": "stream",
     "text": [
      "Train images: 1456, Train labels: 1456\n",
      "Validation images: 623, Validation labels: 623\n",
      "Test images: 452, Test labels: 452\n"
     ]
    }
   ],
   "source": [
    "# Define paths\n",
    "img_dir = \"../OfficeCaltechDomainAdaptation/images\"\n",
    "\n",
    "# Load images by domain\n",
    "data_by_domain = load_images_by_domain(\n",
    "    img_dir=img_dir,\n",
    "    target_size=(300, 300),  # Standardized size\n",
    "    method=\"pad\",           # Use padding to maintain aspect ratio\n",
    "    seed=888                # Seed for reproducibility\n",
    ")\n",
    "\n",
    "# Split images: Combine amazon and caltech10 into train/val/test\n",
    "train_data, val_data, test_data = split_images(\n",
    "    data_by_domain=data_by_domain,\n",
    "    train_domains=[\"amazon\", \"caltech10\"],  # Combine these for training and validation\n",
    "    test_domains=[\"dslr\", \"webcam\"],                        # Use part of amazon and caltech10 for testing\n",
    "    train_split=0.7,                        # 60% for training\n",
    "    val_split=0.3,                          # 20% for validation\n",
    "    use_train_for_test=False,                # Use part of train_domains for testing\n",
    "    test_split=0.1,                         # 20% for testing\n",
    "    seed=888                                # Seed for reproducibility\n",
    ")\n",
    "\n",
    "# Summary of splits\n",
    "print(f\"Train images: {len(train_data['images'])}, Train labels: {len(train_data['labels'])}\")\n",
    "print(f\"Validation images: {len(val_data['images'])}, Validation labels: {len(val_data['labels'])}\")\n",
    "print(f\"Test images: {len(test_data['images'])}, Test labels: {len(test_data['labels'])}\")"
   ]
  },
  {
   "cell_type": "code",
   "execution_count": 26,
   "metadata": {},
   "outputs": [
    {
     "name": "stdout",
     "output_type": "stream",
     "text": [
      "Getting ORB keypoints...\n"
     ]
    },
    {
     "name": "stderr",
     "output_type": "stream",
     "text": [
      "100%|██████████| 452/452 [00:02<00:00, 197.91it/s]\n"
     ]
    }
   ],
   "source": [
    "X_test, _, _ = get_orb_features(\n",
    "        imgs=test_data['images'],\n",
    "        nfeatures=584,\n",
    "        patchSize=11,\n",
    "        scaleFactor=1.24,\n",
    "        n_clusters=268,\n",
    "        kmeans=kmeans,\n",
    "        transformer=transformer\n",
    "    )"
   ]
  },
  {
   "cell_type": "code",
   "execution_count": 30,
   "metadata": {},
   "outputs": [],
   "source": [
    "y_test_pred = model.predict(X_test)"
   ]
  },
  {
   "cell_type": "code",
   "execution_count": 28,
   "metadata": {},
   "outputs": [
    {
     "data": {
      "text/plain": [
       "<matplotlib.image.AxesImage at 0x368475c10>"
      ]
     },
     "execution_count": 28,
     "metadata": {},
     "output_type": "execute_result"
    },
    {
     "data": {
      "image/png": "[encoded data removed]",
      "text/plain": [
       "<Figure size 640x480 with 1 Axes>"
      ]
     },
     "metadata": {},
     "output_type": "display_data"
    }
   ],
   "source": [
    "plt.imshow(test_data['images'][0])"
   ]
  },
  {
   "cell_type": "code",
   "execution_count": 31,
   "metadata": {},
   "outputs": [
    {
     "data": {
      "text/plain": [
       "0.49336283185840707"
      ]
     },
     "execution_count": 31,
     "metadata": {},
     "output_type": "execute_result"
    }
   ],
   "source": [
    "accuracy_score(y_test_pred, test_data['labels'])"
   ]
  }
 ],
 "metadata": {
  "kernelspec": {
   "display_name": "W281",
   "language": "python",
   "name": "python3"
  },
  "language_info": {
   "codemirror_mode": {
    "name": "ipython",
    "version": 3
   },
   "file_extension": ".py",
   "mimetype": "text/x-python",
   "name": "python",
   "nbconvert_exporter": "python",
   "pygments_lexer": "ipython3",
   "version": "3.12.4"
  }
 },
 "nbformat": 4,
 "nbformat_minor": 2
}
