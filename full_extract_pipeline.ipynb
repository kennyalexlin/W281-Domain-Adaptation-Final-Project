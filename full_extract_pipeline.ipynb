{
 "cells": [
  {
   "cell_type": "code",
   "execution_count": null,
   "metadata": {},
   "outputs": [],
   "source": [
    "#### Load in data ####\n",
    "\n",
    "import os\n",
    "from utils import load_images_by_domain, split_images\n",
    "\n",
    "# Define paths\n",
    "img_dir = \"../OfficeCaltechDomainAdaptation/images\"\n",
    "\n",
    "# Load images by domain\n",
    "data_by_domain = load_images_by_domain(\n",
    "    img_dir=img_dir,\n",
    "    target_size=(300, 300),  # Standardized size\n",
    "    method=\"pad\",           # Use padding to maintain aspect ratio\n",
    "    seed=888                # Seed for reproducibility\n",
    ")\n",
    "\n",
    "# Split images: Combine amazon and caltech10 into train/val/test\n",
    "train_data, val_data, test_data = split_images(\n",
    "    data_by_domain=data_by_domain,\n",
    "    train_domains=[\"amazon\", \"caltech10\"],  # Combine these for training and validation\n",
    "    test_domains=[],                        # Use part of amazon and caltech10 for testing\n",
    "    train_split=0.6,                        # 60% for training\n",
    "    val_split=0.2,                          # 20% for validation\n",
    "    use_train_for_test=True,                # Use part of train_domains for testing\n",
    "    test_split=0.2,                         # 20% for testing\n",
    "    seed=888,                               # Seed for reproducibility\n",
    "    combine_train=True                      # Combine amazon and caltech10 into single train/val/test splits\n",
    ")\n",
    "\n",
    "# Summary of splits\n",
    "print(f\"Train images: {len(train_data['images'])}, Train labels: {len(train_data['labels'])}\")\n",
    "print(f\"Validation images: {len(val_data['images'])}, Validation labels: {len(val_data['labels'])}\")\n",
    "print(f\"Test images: {len(test_data['images'])}, Test labels: {len(test_data['labels'])}\")\n"
   ]
  }
 ],
 "metadata": {
  "language_info": {
   "name": "python"
  }
 },
 "nbformat": 4,
 "nbformat_minor": 2
}
